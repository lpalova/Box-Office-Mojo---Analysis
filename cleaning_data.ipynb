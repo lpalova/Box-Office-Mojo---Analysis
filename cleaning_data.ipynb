{
 "cells": [
  {
   "cell_type": "markdown",
   "metadata": {},
   "source": [
    "# Cleaning Data"
   ]
  },
  {
   "cell_type": "code",
   "execution_count": 1,
   "metadata": {
    "collapsed": false
   },
   "outputs": [],
   "source": [
    "import pandas as pd"
   ]
  },
  {
   "cell_type": "code",
   "execution_count": 2,
   "metadata": {
    "collapsed": false
   },
   "outputs": [],
   "source": [
    "data = pd.read_csv(\"./data/movies_mojo_uptoZ.csv\", \n",
    "                   dtype = {'widest_release_theaters' : str,\n",
    "                            'producer' : str,\n",
    "                            'actors' : str,\n",
    "                            'director' : str,\n",
    "                            'distributor' : str\n",
    "                           })\n",
    "data = data.drop_duplicates()\n",
    "data.rename(columns={'runtime_(mins)': 'runtime',\n",
    "                     'widest_release_theaters' : 'theaters',\n",
    "                     'domestic_total_gross' : 'total_gross',\n",
    "                     'production_budget' : 'budget'\n",
    "                    }, inplace=True)\n",
    "meta = pd.read_csv(\"./data/metacritic.csv\")\n",
    "meta = meta.drop_duplicates()"
   ]
  },
  {
   "cell_type": "code",
   "execution_count": 3,
   "metadata": {
    "collapsed": false
   },
   "outputs": [],
   "source": [
    "meta['release_date'] = pd.to_datetime(meta.release_date, format=\"%b %d, %Y\", errors = 'coerce')\n",
    "data['release_date'] = pd.to_datetime(data.release_date, format=\"%Y-%m-%d %H:%M:%S\", errors = 'coerce')"
   ]
  },
  {
   "cell_type": "code",
   "execution_count": 4,
   "metadata": {
    "collapsed": false
   },
   "outputs": [],
   "source": [
    "# Removing lines with NaNs for 'theaters' and 'release_date' and 'budget' and 'runtime' and 'total_gross'\n",
    "data = data[ pd.notnull(data['theaters']) ]\n",
    "data = data[ pd.notnull(data['release_date']) ]\n",
    "data = data[ pd.notnull(data['budget']) ]\n",
    "data = data[ pd.notnull(data['runtime']) ]\n",
    "data = data[ pd.notnull(data['total_gross']) ]"
   ]
  },
  {
   "cell_type": "code",
   "execution_count": 5,
   "metadata": {
    "collapsed": false
   },
   "outputs": [],
   "source": [
    "# Converting 'theaters' str to float\n",
    "data['theaters'] = data['theaters'].map(lambda x: float(x.replace(',','')))"
   ]
  },
  {
   "cell_type": "code",
   "execution_count": 6,
   "metadata": {
    "collapsed": false
   },
   "outputs": [],
   "source": [
    "# Converting 'budget' str to float\n",
    "def production_to_int(s):\n",
    "    money_dict = { 'million' : 1000000 }\n",
    "    s = s.replace(',','').replace('$','').strip().split()\n",
    "    if len(s) == 1:\n",
    "        return float(s[0])\n",
    "    elif len(s) == 2:\n",
    "        return float(s[0])*money_dict[s[1]]\n",
    "    else:\n",
    "        return None\n",
    "\n",
    "data['budget'] = data['budget'].map(lambda x: production_to_int(x))"
   ]
  },
  {
   "cell_type": "code",
   "execution_count": 7,
   "metadata": {
    "collapsed": false,
    "scrolled": true
   },
   "outputs": [],
   "source": [
    "data['month'] = data['release_date'].map(lambda x: x.month)\n",
    "data['year'] = data['release_date'].map(lambda x: x.year)"
   ]
  },
  {
   "cell_type": "code",
   "execution_count": 8,
   "metadata": {
    "collapsed": false
   },
   "outputs": [],
   "source": [
    "# Adjusting for inflation: 1999 - 2016\n",
    "inflation_dict = {\n",
    "                  1999 : 1.43,\n",
    "                  2000 : 1.38,\n",
    "                  2001 : 1.34,\n",
    "                  2002 : 1.32,\n",
    "                  2003 : 1.29,\n",
    "                  2004 : 1.26,\n",
    "                  2005 : 1.22,\n",
    "                  2006 : 1.18,\n",
    "                  2007 : 1.15,\n",
    "                  2008 : 1.11,\n",
    "                  2009 : 1.11,\n",
    "                  2010 : 1.09,\n",
    "                  2011 : 1.06,\n",
    "                  2012 : 1.04,\n",
    "                  2013 : 1.02,\n",
    "                  2014 : 1.01,\n",
    "                  2015 : 1.00,\n",
    "                  2016 : 1.00\n",
    "                 }\n",
    "for years in range(1900,1999):\n",
    "    inflation_dict[years] = 1.00\n",
    "# Years before 1999 are unadjusted: Not using those gross values\n",
    "data['inflation'] = data['year'].map(lambda x: inflation_dict[x])\n",
    "data['total_gross'] = data['total_gross']*data['inflation']\n",
    "data['budget'] = data['budget']*data['inflation']"
   ]
  },
  {
   "cell_type": "code",
   "execution_count": 9,
   "metadata": {
    "collapsed": false
   },
   "outputs": [],
   "source": [
    "data['gross_per_theater'] = data['total_gross']/data['theaters']"
   ]
  },
  {
   "cell_type": "code",
   "execution_count": 10,
   "metadata": {
    "collapsed": false
   },
   "outputs": [],
   "source": [
    "def get_row_names(names):\n",
    "    if not names:\n",
    "        return None\n",
    "    if pd.isnull(names):\n",
    "        return None\n",
    "    clean_list = []\n",
    "    names_list = names.split(',')\n",
    "    for name in names_list:\n",
    "        name = name.strip()\n",
    "        if name != \"(executive)\" and name != \"\":\n",
    "            clean_list.append(name)\n",
    "    return clean_list"
   ]
  },
  {
   "cell_type": "code",
   "execution_count": 11,
   "metadata": {
    "collapsed": false
   },
   "outputs": [],
   "source": [
    "def get_df(df, column_name):\n",
    "    headers = ['movie_title', column_name, 'release_date', 'total_gross']\n",
    "    new_df = pd.DataFrame()\n",
    "    for i in range(len(df)):\n",
    "        movie = df.movie_title.iloc[i]\n",
    "        total_gross = df.total_gross.iloc[i]\n",
    "        release_date = df.release_date.iloc[i]\n",
    "        item_list = get_row_names(df[column_name].iloc[i])\n",
    "        if item_list:\n",
    "            for item in item_list:\n",
    "                row = pd.DataFrame([[movie, item, release_date, total_gross]], columns=headers)\n",
    "                new_df = new_df.append(row, ignore_index=True)\n",
    "    return new_df"
   ]
  },
  {
   "cell_type": "code",
   "execution_count": 12,
   "metadata": {
    "collapsed": false
   },
   "outputs": [],
   "source": [
    "# Calculate average total_gross per actor per movie for movies released by that date\n",
    "# Then for each movie, take the maximum average total_gross == actor_score\n",
    "# Finally, merge with the existing data frame by movie_title\n",
    "def get_score(df, column_name, column_score):\n",
    "    df2=pd.merge(df[['movie_title',column_name,'total_gross','release_date']],\n",
    "                 df[['movie_title',column_name,'total_gross','release_date']],\n",
    "                 on=column_name)\n",
    "    df2=df2[df2['release_date_x']>df2['release_date_y']]\n",
    "    df2 = df2.groupby(['movie_title_x',column_name,'total_gross_x','release_date_x']).mean()\n",
    "    df2 = df2.reset_index()\n",
    "    df2 = df2.rename(columns={'movie_title_x': 'movie_title', 'total_gross_y': column_score})\n",
    "    df2 = df2.groupby(['movie_title']).max().reset_index()\n",
    "    df2 = df2[['movie_title',column_score]]\n",
    "    return df2"
   ]
  },
  {
   "cell_type": "code",
   "execution_count": 13,
   "metadata": {
    "collapsed": false
   },
   "outputs": [],
   "source": [
    "data_actors = get_df(data, \"actors\")\n",
    "data_actors = data_actors[ pd.notnull(data_actors['total_gross']) ]\n",
    "actors_score = get_score(data_actors, 'actors','actors_score')"
   ]
  },
  {
   "cell_type": "code",
   "execution_count": 14,
   "metadata": {
    "collapsed": false
   },
   "outputs": [],
   "source": [
    "data_director = get_df(data, \"director\")\n",
    "data_director = data_director[ pd.notnull(data_director['total_gross']) ]\n",
    "director_score = get_score(data_director, 'director','director_score')"
   ]
  },
  {
   "cell_type": "code",
   "execution_count": 15,
   "metadata": {
    "collapsed": false
   },
   "outputs": [],
   "source": [
    "data_producer = get_df(data, \"producer\")\n",
    "data_producer = data_producer[ pd.notnull(data_producer['total_gross']) ]\n",
    "producer_score = get_score(data_producer, 'producer','producer_score')"
   ]
  },
  {
   "cell_type": "code",
   "execution_count": 16,
   "metadata": {
    "collapsed": false
   },
   "outputs": [],
   "source": [
    "data_writers = get_df(data, \"writers\")\n",
    "data_writers = data_writers[ pd.notnull(data_writers['total_gross']) ]\n",
    "writers_score = get_score(data_writers, 'writers','writers_score')"
   ]
  },
  {
   "cell_type": "code",
   "execution_count": 17,
   "metadata": {
    "collapsed": false
   },
   "outputs": [],
   "source": [
    "data_composers = get_df(data, \"composers\")\n",
    "data_composers = data_composers[ pd.notnull(data_composers['total_gross']) ]\n",
    "composers_score = get_score(data_composers, 'composers','composers_score')"
   ]
  },
  {
   "cell_type": "code",
   "execution_count": 18,
   "metadata": {
    "collapsed": false
   },
   "outputs": [],
   "source": [
    "data_cinematographers = get_df(data, \"cinematographers\")\n",
    "data_cinematographers = data_cinematographers[ pd.notnull(data_cinematographers['total_gross']) ]\n",
    "cinematographers_score = get_score(data_cinematographers, 'cinematographers','cinematographers_score')"
   ]
  },
  {
   "cell_type": "code",
   "execution_count": 25,
   "metadata": {
    "collapsed": false
   },
   "outputs": [
    {
     "name": "stdout",
     "output_type": "stream",
     "text": [
      "2352\n",
      "1650\n",
      "935\n",
      "551\n",
      "421\n",
      "421\n"
     ]
    }
   ],
   "source": [
    "# Create data frames with scores for actors, actors+producers, etc.\n",
    "# Measure the length of the (inner)joined data frame\n",
    "data_actors_score = pd.merge(data, actors_score, on='movie_title')\n",
    "print len(data_actors_score)\n",
    "data_producer_score = pd.merge(data_actors_score, producer_score, on='movie_title')\n",
    "print len(data_producer_score)\n",
    "data_director_score = pd.merge(data_producer_score, director_score, on='movie_title')\n",
    "print len(data_director_score)\n",
    "data_writers_score = pd.merge(data_director_score, writers_score, on='movie_title')\n",
    "print len(data_writers_score)\n",
    "data_composers_score = pd.merge(data_writers_score, composers_score, on='movie_title')\n",
    "print len(data_composers_score)\n",
    "data_cinematographers_score = pd.merge(data_composers_score, cinematographers_score, on='movie_title')\n",
    "print len(data_composers_score)"
   ]
  },
  {
   "cell_type": "code",
   "execution_count": 20,
   "metadata": {
    "collapsed": true
   },
   "outputs": [],
   "source": [
    "def get_merged_data(df):\n",
    "    md = pd.merge(meta, df, on = 'movie_title')\n",
    "    return md"
   ]
  },
  {
   "cell_type": "code",
   "execution_count": 21,
   "metadata": {
    "collapsed": false
   },
   "outputs": [],
   "source": [
    "#md_actors = get_merged_data(data_actors_score)\n",
    "#md_actors.to_csv(\"./data/md_actors.csv\", index = False)"
   ]
  },
  {
   "cell_type": "code",
   "execution_count": 22,
   "metadata": {
    "collapsed": false
   },
   "outputs": [],
   "source": [
    "md_producer = get_merged_data(data_producer_score)\n",
    "md_producer.to_csv(\"./data/md_actor_producer.csv\", index = False)"
   ]
  },
  {
   "cell_type": "code",
   "execution_count": 23,
   "metadata": {
    "collapsed": false
   },
   "outputs": [],
   "source": [
    "#md_all = get_merged_data(data_cinematographers_score)\n",
    "#md_all.to_csv(\"./data/md_all.csv\", index = False)"
   ]
  },
  {
   "cell_type": "code",
   "execution_count": null,
   "metadata": {
    "collapsed": true
   },
   "outputs": [],
   "source": []
  }
 ],
 "metadata": {
  "kernelspec": {
   "display_name": "Python 2",
   "language": "python",
   "name": "python2"
  },
  "language_info": {
   "codemirror_mode": {
    "name": "ipython",
    "version": 2
   },
   "file_extension": ".py",
   "mimetype": "text/x-python",
   "name": "python",
   "nbconvert_exporter": "python",
   "pygments_lexer": "ipython2",
   "version": "2.7.11"
  }
 },
 "nbformat": 4,
 "nbformat_minor": 0
}
