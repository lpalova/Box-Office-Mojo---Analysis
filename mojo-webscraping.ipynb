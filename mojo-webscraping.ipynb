{
 "cells": [
  {
   "cell_type": "markdown",
   "metadata": {},
   "source": [
    "# Box Office Mojo - Web scraping"
   ]
  },
  {
   "cell_type": "code",
   "execution_count": 122,
   "metadata": {
    "collapsed": false
   },
   "outputs": [],
   "source": [
    "import requests\n",
    "from bs4 import BeautifulSoup\n",
    "import re\n",
    "import dateutil.parser\n",
    "from string import ascii_uppercase\n",
    "import pandas as pd\n",
    "import pickle\n",
    "import time"
   ]
  },
  {
   "cell_type": "code",
   "execution_count": 123,
   "metadata": {
    "collapsed": true
   },
   "outputs": [],
   "source": [
    "def get_movie_value(soup, field_name):\n",
    "    '''Grab a value from boxofficemojo HTML\n",
    "    \n",
    "    Takes a string attribute of a movie on the page and\n",
    "    returns the string in the next sibling object\n",
    "    (the value for that attribute)\n",
    "    or None if nothing is found.\n",
    "    '''\n",
    "    obj = soup.find(text=re.compile(field_name))\n",
    "    if not obj: \n",
    "        return None\n",
    "    # this works for most of the values\n",
    "    next_sibling = obj.findNextSibling()\n",
    "    if next_sibling:\n",
    "        return next_sibling.text.encode('ascii','ignore') \n",
    "    else:\n",
    "        return None"
   ]
  },
  {
   "cell_type": "code",
   "execution_count": 124,
   "metadata": {
    "collapsed": true
   },
   "outputs": [],
   "source": [
    "def get_movie_title(soup):\n",
    "    obj = soup.find('title')\n",
    "    if not obj: \n",
    "        return None\n",
    "    # this works for most of the values\n",
    "    try:\n",
    "        name = \"(\".join(obj.text.split('(')[:-1]).strip()\n",
    "        if name == \"\":\n",
    "            name = \"\".join(obj.text.split('-')[:-1]).strip()\n",
    "        return name.encode('ascii','ignore')\n",
    "    except:\n",
    "        return None"
   ]
  },
  {
   "cell_type": "code",
   "execution_count": 125,
   "metadata": {
    "collapsed": false
   },
   "outputs": [],
   "source": [
    "def get_theaters(soup):\n",
    "    nonBreakSpace = u'\\xa0'\n",
    "    obj = soup.find(text=re.compile('Widest'+nonBreakSpace+'Release:'))\n",
    "    if not obj:\n",
    "        return None\n",
    "    next_obj = obj.findNext('td')\n",
    "    if next_obj.contents[0]:\n",
    "        return next_obj.contents[0].strip().split()[0].encode('ascii','ignore')\n",
    "    else:\n",
    "        return None"
   ]
  },
  {
   "cell_type": "code",
   "execution_count": 127,
   "metadata": {
    "collapsed": false
   },
   "outputs": [],
   "source": [
    "def get_all_players(soup, field_name_list):\n",
    "    for item in set(field_name_list):\n",
    "        my_text = soup.find(text=item)\n",
    "        if my_text:\n",
    "            my_td = my_text.findNext('td').getText(separator=u',').encode('ascii','ignore')\n",
    "            return my_td\n",
    "    return None"
   ]
  },
  {
   "cell_type": "code",
   "execution_count": 128,
   "metadata": {
    "collapsed": true
   },
   "outputs": [],
   "source": [
    "def to_date(datestring):\n",
    "    try:\n",
    "        date = dateutil.parser.parse(datestring)\n",
    "        return date\n",
    "    except:\n",
    "        return datestring\n",
    "\n",
    "def money_to_int(moneystring):\n",
    "    try:\n",
    "        moneystring = moneystring.replace('$', '').replace(',', '')\n",
    "        return int(moneystring)\n",
    "    except:\n",
    "        return moneystring\n",
    "\n",
    "def runtime_to_minutes(runtimestring):\n",
    "    try:\n",
    "        runtime = runtimestring.split()\n",
    "        try:\n",
    "            minutes = int(runtime[0])*60 + int(runtime[2])\n",
    "            return minutes\n",
    "        except:\n",
    "            return None\n",
    "    except:\n",
    "        return runtimestring"
   ]
  },
  {
   "cell_type": "code",
   "execution_count": 129,
   "metadata": {
    "collapsed": false
   },
   "outputs": [],
   "source": [
    "def process_movie(url):\n",
    "    headers = ['movie_title', 'domestic_total_gross', 'release_date', 'runtime_(mins)', 'rating',\n",
    "               'genre', 'distributor', 'director', 'producer', 'production_budget', 'widest_release_theaters',\n",
    "              'actors', 'writers', 'cinematographers', 'composers']\n",
    "    response = requests.get(url)\n",
    "    if response.status_code != 200:\n",
    "        return None\n",
    "    page = response.text\n",
    "    soup = BeautifulSoup(page,\"lxml\")\n",
    "    movie_title = get_movie_title(soup)\n",
    "    raw_release_date = get_movie_value(soup,'Release Date')\n",
    "    release_date = to_date(raw_release_date)\n",
    "    raw_domestic_total_gross = get_movie_value(soup,'Domestic Total')\n",
    "    domestic_total_gross = money_to_int(raw_domestic_total_gross)\n",
    "    raw_runtime = get_movie_value(soup,'Runtime')\n",
    "    runtime = runtime_to_minutes(raw_runtime)\n",
    "    rating = get_movie_value(soup,'MPAA Rating')\n",
    "    genre = get_movie_value(soup,'Genre: ')\n",
    "    distributor = get_movie_value(soup,'Distributor: ')\n",
    "    production_budget = get_movie_value(soup, 'Production Budget: ')\n",
    "    theaters = get_movie_value(soup, 'Wildest Release: ')\n",
    "    director = get_all_players(soup,['Director:','Director'])\n",
    "    producer = get_all_players(soup,['Producer:','Producers:','Producer','Producers'])\n",
    "    actors = get_all_players(soup,['Actor:','Actors:','Actor','Actors'])\n",
    "    writers = get_all_players(soup,['Writer:','Writers:','Screenwriter:','Screenwriters:',\n",
    "                                   'Writer','Writers','Screenwriter','Screenwriters'])\n",
    "    cinematographers = get_all_players(soup, ['Cinematographer:','Cinematographer',\n",
    "                                              'Cinematographers:''Cinematographers'])\n",
    "    composers = get_all_players(soup, ['Composer:','Composers:','Composer','Composers'])\n",
    "    widest_release_theaters = get_theaters(soup)\n",
    "    df_movie = pd.DataFrame([[movie_title, domestic_total_gross, release_date, runtime, rating, \n",
    "                              genre, distributor, director, producer, production_budget, widest_release_theaters,\n",
    "                             actors, writers, cinematographers, composers]], \n",
    "                            columns=headers)\n",
    "    return df_movie"
   ]
  },
  {
   "cell_type": "code",
   "execution_count": 130,
   "metadata": {
    "collapsed": true
   },
   "outputs": [],
   "source": [
    "def get_links_to_movies(main_page, movies_page):\n",
    "    response = requests.get(movies_page)\n",
    "    page = response.text\n",
    "    soup = BeautifulSoup(page,\"lxml\")\n",
    "    obj = soup.find(id=\"body\")\n",
    "    list_links = []\n",
    "    for link in obj.findAll('a'):\n",
    "        if link['href'].startswith(\"/movies/?id\"):\n",
    "            list_links.append(main_page + link['href'])\n",
    "    return list_links"
   ]
  },
  {
   "cell_type": "code",
   "execution_count": 132,
   "metadata": {
    "collapsed": false
   },
   "outputs": [
    {
     "name": "stdout",
     "output_type": "stream",
     "text": [
      "http://www.boxofficemojo.com/movies/alphabetical.htm?letter=NUM&p=.htm\n"
     ]
    }
   ],
   "source": [
    "main_page = 'http://www.boxofficemojo.com'\n",
    "\n",
    "# Processing 'NUM' movies page\n",
    "movies_page = main_page + '/movies/alphabetical.htm?letter=NUM&p=.htm'\n",
    "print movies_page\n",
    "movies_links = get_links_to_movies(main_page, movies_page)\n",
    "df = process_movie(movies_links.pop(0))\n",
    "for link in movies_links:\n",
    "    df_movie = process_movie(link)\n",
    "    if df_movie is not None:\n",
    "        df = df.append(df_movie, ignore_index=True)\n",
    "df.to_pickle('my_df.pickle')"
   ]
  },
  {
   "cell_type": "code",
   "execution_count": 243,
   "metadata": {
    "collapsed": false,
    "scrolled": true
   },
   "outputs": [
    {
     "name": "stdout",
     "output_type": "stream",
     "text": [
      "http://www.boxofficemojo.com/movies/alphabetical.htm?letter=Z&page=1&p=.htm\n",
      "http://www.boxofficemojo.com/movies/alphabetical.htm?letter=Z&page=2&p=.htm\n",
      "http://www.boxofficemojo.com/movies/alphabetical.htm?letter=Z&page=3&p=.htm\n",
      "http://www.boxofficemojo.com/movies/alphabetical.htm?letter=Z&page=4&p=.htm\n",
      "http://www.boxofficemojo.com/movies/alphabetical.htm?letter=Z&page=5&p=.htm\n",
      "http://www.boxofficemojo.com/movies/alphabetical.htm?letter=Z&page=6&p=.htm\n",
      "http://www.boxofficemojo.com/movies/alphabetical.htm?letter=Z&page=7&p=.htm\n",
      "http://www.boxofficemojo.com/movies/alphabetical.htm?letter=Z&page=8&p=.htm\n",
      "http://www.boxofficemojo.com/movies/alphabetical.htm?letter=Z&page=9&p=.htm\n",
      "http://www.boxofficemojo.com/movies/alphabetical.htm?letter=Z&page=10&p=.htm\n",
      "http://www.boxofficemojo.com/movies/alphabetical.htm?letter=Z&page=11&p=.htm\n",
      "http://www.boxofficemojo.com/movies/alphabetical.htm?letter=Z&page=12&p=.htm\n",
      "http://www.boxofficemojo.com/movies/alphabetical.htm?letter=Z&page=13&p=.htm\n",
      "http://www.boxofficemojo.com/movies/alphabetical.htm?letter=Z&page=14&p=.htm\n"
     ]
    }
   ],
   "source": [
    "# Processing pages\n",
    "for c in ascii_uppercase:\n",
    "    for num in range(1,15):\n",
    "        movies_page = main_page + '/movies/alphabetical.htm?letter=' + c + '&page=' + str(num) + '&p=.htm'\n",
    "        print movies_page\n",
    "        movies_links = get_links_to_movies(main_page, movies_page)\n",
    "        for link in movies_links:\n",
    "            df = pd.read_pickle('my_df.pickle')\n",
    "            df_movie = process_movie(link)\n",
    "            if df_movie is not None:\n",
    "                df = df.append(df_movie, ignore_index=True)\n",
    "            df.to_pickle('my_df.pickle')    "
   ]
  },
  {
   "cell_type": "code",
   "execution_count": 244,
   "metadata": {
    "collapsed": false
   },
   "outputs": [],
   "source": [
    "df.to_csv(\"./data/movies_mojo_uptoZ.csv\", index = False)"
   ]
  }
 ],
 "metadata": {
  "kernelspec": {
   "display_name": "Python 2",
   "language": "python",
   "name": "python2"
  },
  "language_info": {
   "codemirror_mode": {
    "name": "ipython",
    "version": 2
   },
   "file_extension": ".py",
   "mimetype": "text/x-python",
   "name": "python",
   "nbconvert_exporter": "python",
   "pygments_lexer": "ipython2",
   "version": "2.7.11"
  }
 },
 "nbformat": 4,
 "nbformat_minor": 0
}
