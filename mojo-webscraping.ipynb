{
 "cells": [
  {
   "cell_type": "markdown",
   "metadata": {},
   "source": [
    "# Box Office Mojo - Web scraping"
   ]
  },
  {
   "cell_type": "code",
   "execution_count": 52,
   "metadata": {
    "collapsed": false
   },
   "outputs": [],
   "source": [
    "# if needed: pip install requests\n",
    "import requests\n",
    "import urllib2\n",
    "#from BeautifulSoup import BeautifulSoup\n",
    "from bs4 import BeautifulSoup\n",
    "import re\n",
    "import dateutil.parser\n",
    "from string import ascii_uppercase\n",
    "from pprint import pprint\n",
    "import pandas as pd"
   ]
  },
  {
   "cell_type": "code",
   "execution_count": 53,
   "metadata": {
    "collapsed": true
   },
   "outputs": [],
   "source": [
    "def get_movie_value(soup, field_name):\n",
    "    '''Grab a value from boxofficemojo HTML\n",
    "    \n",
    "    Takes a string attribute of a movie on the page and\n",
    "    returns the string in the next sibling object\n",
    "    (the value for that attribute)\n",
    "    or None if nothing is found.\n",
    "    '''\n",
    "    obj = soup.find(text=re.compile(field_name))\n",
    "    if not obj: \n",
    "        return None\n",
    "    # this works for most of the values\n",
    "    next_sibling = obj.findNextSibling()\n",
    "    if next_sibling:\n",
    "        return next_sibling.text.encode('ascii','ignore') \n",
    "    else:\n",
    "        return None"
   ]
  },
  {
   "cell_type": "code",
   "execution_count": 54,
   "metadata": {
    "collapsed": true
   },
   "outputs": [],
   "source": [
    "def get_movie_title(soup):\n",
    "    obj = soup.find('title')\n",
    "    if not obj: \n",
    "        return None\n",
    "    # this works for most of the values\n",
    "    try:\n",
    "        name = \"(\".join(obj.text.split('(')[:-1]).strip()\n",
    "        if name == \"\":\n",
    "            name = \"\".join(obj.text.split('-')[:-1]).strip()\n",
    "        return name.encode('ascii','ignore')\n",
    "    except:\n",
    "        return None"
   ]
  },
  {
   "cell_type": "code",
   "execution_count": 55,
   "metadata": {
    "collapsed": true
   },
   "outputs": [],
   "source": [
    "def get_director(soup):\n",
    "    for link in soup.find_all('a'):\n",
    "        try:\n",
    "            if link.contents[0] == 'Director:':\n",
    "                return link.findNext('a').contents[0].encode('ascii','ignore')\n",
    "        except:\n",
    "            continue\n",
    "    return None"
   ]
  },
  {
   "cell_type": "code",
   "execution_count": 56,
   "metadata": {
    "collapsed": false
   },
   "outputs": [
    {
     "ename": "SyntaxError",
     "evalue": "invalid syntax (<ipython-input-56-944b7bd57910>, line 8)",
     "output_type": "error",
     "traceback": [
      "\u001b[1;36m  File \u001b[1;32m\"<ipython-input-56-944b7bd57910>\"\u001b[1;36m, line \u001b[1;32m8\u001b[0m\n\u001b[1;33m    return next_obj.contents[0].strip().split()[0.encode('ascii','ignore')\u001b[0m\n\u001b[1;37m                                                       ^\u001b[0m\n\u001b[1;31mSyntaxError\u001b[0m\u001b[1;31m:\u001b[0m invalid syntax\n"
     ]
    }
   ],
   "source": [
    "def get_theaters(soup):\n",
    "    nonBreakSpace = u'\\xa0'\n",
    "    obj = soup.find(text=re.compile('Widest'+nonBreakSpace+'Release:'))\n",
    "    if not obj:\n",
    "        return None\n",
    "    next_obj = obj.findNext('td')\n",
    "    if next_obj.contents[0]:\n",
    "        return next_obj.contents[0].strip().split()[0.encode('ascii','ignore')\n",
    "    else:\n",
    "        return None"
   ]
  },
  {
   "cell_type": "code",
   "execution_count": 57,
   "metadata": {
    "collapsed": true
   },
   "outputs": [],
   "source": [
    "def to_date(datestring):\n",
    "    try:\n",
    "        date = dateutil.parser.parse(datestring)\n",
    "        return date\n",
    "    except:\n",
    "        return datestring\n",
    "\n",
    "def money_to_int(moneystring):\n",
    "    try:\n",
    "        moneystring = moneystring.replace('$', '').replace(',', '')\n",
    "        return int(moneystring)\n",
    "    except:\n",
    "        return moneystring\n",
    "\n",
    "def runtime_to_minutes(runtimestring):\n",
    "    try:\n",
    "        runtime = runtimestring.split()\n",
    "        try:\n",
    "            minutes = int(runtime[0])*60 + int(runtime[2])\n",
    "            return minutes\n",
    "        except:\n",
    "            return None\n",
    "    except:\n",
    "        return runtimestring"
   ]
  },
  {
   "cell_type": "code",
   "execution_count": 58,
   "metadata": {
    "collapsed": false
   },
   "outputs": [],
   "source": [
    "def process_movie(url):\n",
    "    headers = ['movie_title', 'domestic_total_gross', 'release_date', 'runtime_(mins)', 'rating',\n",
    "               'genre', 'distributor', 'director', 'production_budget', 'widest_release_theaters']\n",
    "    response = requests.get(url)\n",
    "    if response.status_code != 200:\n",
    "        df_movie = pd.DataFrame([[NA]*len(headers)], columns=headers)\n",
    "        return df_movie\n",
    "    page = response.text\n",
    "    soup = BeautifulSoup(page,\"lxml\")\n",
    "    movie_title = get_movie_title(soup)\n",
    "    raw_release_date = get_movie_value(soup,'Release Date')\n",
    "    release_date = to_date(raw_release_date)\n",
    "    raw_domestic_total_gross = get_movie_value(soup,'Domestic Total')\n",
    "    domestic_total_gross = money_to_int(raw_domestic_total_gross)\n",
    "    raw_runtime = get_movie_value(soup,'Runtime')\n",
    "    runtime = runtime_to_minutes(raw_runtime)\n",
    "    rating = get_movie_value(soup,'MPAA Rating')\n",
    "    genre = get_movie_value(soup,'Genre: ')\n",
    "    distributor = get_movie_value(soup,'Distributor: ')\n",
    "    production_budget = get_movie_value(soup, 'Production Budget: ')\n",
    "    theaters = get_movie_value(soup, 'Wildest Release: ')\n",
    "    director = get_director(soup)\n",
    "    widest_release_theaters = get_theaters(soup)\n",
    "    df_movie = pd.DataFrame([[movie_title, domestic_total_gross, release_date, runtime, rating, \n",
    "                              genre, distributor, director, production_budget, widest_release_theaters]], \n",
    "                 columns=headers)\n",
    "    return df_movie\n"
   ]
  },
  {
   "cell_type": "code",
   "execution_count": 59,
   "metadata": {
    "collapsed": true
   },
   "outputs": [],
   "source": [
    "def get_links_to_movies(main_page, movies_page):\n",
    "    response = requests.get(movies_page)\n",
    "    page = response.text\n",
    "    soup = BeautifulSoup(page,\"lxml\")\n",
    "    obj = soup.find(id=\"body\")\n",
    "    list_links = []\n",
    "    for link in obj.findAll('a'):\n",
    "        if link['href'].startswith(\"/movies/?id\"):\n",
    "            list_links.append(main_page + link['href'])\n",
    "    return list_links"
   ]
  },
  {
   "cell_type": "code",
   "execution_count": 63,
   "metadata": {
    "collapsed": false,
    "scrolled": true
   },
   "outputs": [
    {
     "name": "stdout",
     "output_type": "stream",
     "text": [
      "           movie_title domestic_total_gross         release_date  \\\n",
      "0  The Matrix Reloaded            281576461  2003-05-15 00:00:00   \n",
      "1     The Big Lebowski             17451873  1998-03-06 00:00:00   \n",
      "2               Jazbaa                 None                  TBD   \n",
      "\n",
      "   runtime_(mins)         rating             genre   distributor  \\\n",
      "0             138              R     Sci-Fi Action  Warner Bros.   \n",
      "1             117              R      Crime Comedy      Gramercy   \n",
      "2             119  Not Yet Rated  Drama / Thriller       Unknown   \n",
      "\n",
      "                director production_budget widest_release_theaters  \n",
      "0  Andy & Lana Wachowski      $150 million                   3,603  \n",
      "1              Joel Coen               N/A                   1,235  \n",
      "2                   None               N/A                    None  \n"
     ]
    }
   ],
   "source": [
    "df_sample = process_movie('http://www.boxofficemojo.com/movies/?id=matrixreloaded.htm')\n",
    "df_sample = df_sample.append(process_movie('http://boxofficemojo.com/movies/?id=biglebowski.htm'),ignore_index=True)\n",
    "df_sample = df_sample.append(process_movie('http://www.boxofficemojo.com/movies/?id=jazbaa.htm'),ignore_index=True)\n",
    "print df_sample\n",
    "df_sample.to_csv(\"./data/test_sample.csv\", index = False)"
   ]
  },
  {
   "cell_type": "code",
   "execution_count": 64,
   "metadata": {
    "collapsed": false
   },
   "outputs": [
    {
     "name": "stdout",
     "output_type": "stream",
     "text": [
      "http://www.boxofficemojo.com/movies/alphabetical.htm?letter=A&p=.htm\n",
      "['http://www.boxofficemojo.com/movies/?id=actress2014.htm', 'http://www.boxofficemojo.com/movies/?id=actsofworship.htm']\n"
     ]
    }
   ],
   "source": [
    "main_page = 'http://www.boxofficemojo.com'\n",
    "my_list_of_links = []\n",
    "\n",
    "# Processing 'A' movies page\n",
    "movies_page = main_page + '/movies/alphabetical.htm?letter=A&p=.htm'\n",
    "print movies_page\n",
    "movies_links = get_links_to_movies(main_page, movies_page)\n",
    "my_list_of_links.append(movies_links[0])\n",
    "df = process_movie(movies_links.pop(0))\n",
    "for link in movies_links:\n",
    "    my_list_of_links.append(link)\n",
    "    df = df.append(process_movie(link),ignore_index=True)\n",
    "print my_list_of_links[-2:]\n",
    "    "
   ]
  },
  {
   "cell_type": "code",
   "execution_count": 65,
   "metadata": {
    "collapsed": false
   },
   "outputs": [
    {
     "name": "stdout",
     "output_type": "stream",
     "text": [
      "http://www.boxofficemojo.com/movies/alphabetical.htm?letter=B&p=.htm\n",
      "['http://www.boxofficemojo.com/movies/?id=bayofangels01.htm', 'http://www.boxofficemojo.com/movies/?id=baywatch.htm']\n",
      "http://www.boxofficemojo.com/movies/alphabetical.htm?letter=C&p=.htm\n",
      "['http://www.boxofficemojo.com/movies/?id=cavemen.htm', 'http://www.boxofficemojo.com/movies/?id=cavite.htm']\n",
      "http://www.boxofficemojo.com/movies/alphabetical.htm?letter=D&p=.htm\n",
      "['http://www.boxofficemojo.com/movies/?id=daytrippers.htm', 'http://www.boxofficemojo.com/movies/?id=dazedandconfused.htm']\n",
      "http://www.boxofficemojo.com/movies/alphabetical.htm?letter=E&p=.htm\n",
      "['http://www.boxofficemojo.com/movies/?id=edwardii.htm', 'http://www.boxofficemojo.com/movies/?id=edwardscissorhands.htm']\n",
      "http://www.boxofficemojo.com/movies/alphabetical.htm?letter=F&p=.htm\n",
      "['http://www.boxofficemojo.com/movies/?id=favor.htm', 'http://www.boxofficemojo.com/movies/?id=faygrim.htm']\n",
      "http://www.boxofficemojo.com/movies/alphabetical.htm?letter=G&p=.htm\n",
      "['http://www.boxofficemojo.com/movies/?id=gayby.htm', 'http://www.boxofficemojo.com/movies/?id=gazbarblues.htm']\n",
      "http://www.boxofficemojo.com/movies/alphabetical.htm?letter=H&p=.htm\n",
      "['http://www.boxofficemojo.com/movies/?id=hayride2.htm', 'http://www.boxofficemojo.com/movies/?id=haywire.htm']\n",
      "http://www.boxofficemojo.com/movies/alphabetical.htm?letter=I&p=.htm\n",
      "['http://www.boxofficemojo.com/movies/?id=iwillfollow.htm', 'http://www.boxofficemojo.com/movies/?id=iwish.htm']\n",
      "http://www.boxofficemojo.com/movies/alphabetical.htm?letter=J&p=.htm\n",
      "['http://www.boxofficemojo.com/movies/?id=jazzinthediamonddistrict.htm', 'http://www.boxofficemojo.com/movies/?id=jazzsinger.htm']\n"
     ]
    }
   ],
   "source": [
    "# Processing pages 1 -- 9\n",
    "for c in ascii_uppercase[1:10]:\n",
    "    movies_page = main_page + '/movies/alphabetical.htm?letter=' + c + '&p=.htm'\n",
    "    print movies_page\n",
    "    movies_links = get_links_to_movies(main_page, movies_page)\n",
    "    for link in movies_links:\n",
    "        my_list_of_links.append(link)\n",
    "        df = df.append(process_movie(link),ignore_index=True)\n",
    "    print my_list_of_links[-2:]"
   ]
  },
  {
   "cell_type": "code",
   "execution_count": 67,
   "metadata": {
    "collapsed": false
   },
   "outputs": [
    {
     "name": "stdout",
     "output_type": "stream",
     "text": [
      "http://www.boxofficemojo.com/movies/alphabetical.htm?letter=K&p=.htm\n",
      "['http://www.boxofficemojo.com/movies/?id=katyn.htm', 'http://www.boxofficemojo.com/movies/?id=kazaam.htm']\n",
      "http://www.boxofficemojo.com/movies/alphabetical.htm?letter=L&p=.htm\n",
      "['http://www.boxofficemojo.com/movies/?id=lazarus.htm', 'http://www.boxofficemojo.com/movies/?id=lazerteam.htm']\n",
      "http://www.boxofficemojo.com/movies/alphabetical.htm?letter=M&p=.htm\n",
      "['http://www.boxofficemojo.com/movies/?id=mazerunner3.htm', 'http://www.boxofficemojo.com/movies/?id=mazerunner2.htm']\n",
      "http://www.boxofficemojo.com/movies/alphabetical.htm?letter=N&p=.htm\n",
      "['http://www.boxofficemojo.com/movies/?id=navigators.htm', 'http://www.boxofficemojo.com/movies/?id=navyseals.htm']\n",
      "http://www.boxofficemojo.com/movies/alphabetical.htm?letter=O&p=.htm\n",
      "['http://www.boxofficemojo.com/movies/?id=offside.htm', 'http://www.boxofficemojo.com/movies/?id=offspring.htm']\n",
      "http://www.boxofficemojo.com/movies/alphabetical.htm?letter=P&p=.htm\n",
      "['http://www.boxofficemojo.com/movies/?id=payback2012.htm', 'http://www.boxofficemojo.com/movies/?id=paycheck.htm']\n",
      "http://www.boxofficemojo.com/movies/alphabetical.htm?letter=Q&p=.htm\n",
      "['http://www.boxofficemojo.com/movies/?id=quizshow.htm', 'http://www.boxofficemojo.com/movies/?id=quovadis.htm']\n",
      "http://www.boxofficemojo.com/movies/alphabetical.htm?letter=R&p=.htm\n",
      "['http://www.boxofficemojo.com/movies/?id=razorsedge.htm', 'http://www.boxofficemojo.com/movies/?id=razorback.htm']\n",
      "http://www.boxofficemojo.com/movies/alphabetical.htm?letter=S&p=.htm\n",
      "['http://www.boxofficemojo.com/movies/?id=sayitisntso.htm', 'http://www.boxofficemojo.com/movies/?id=sayuncle.htm']\n",
      "http://www.boxofficemojo.com/movies/alphabetical.htm?letter=T&p=.htm\n",
      "['http://www.boxofficemojo.com/movies/?id=taxman.htm', 'http://www.boxofficemojo.com/movies/?id=tazza.htm']\n"
     ]
    }
   ],
   "source": [
    "# Processing pages 10 -- 19\n",
    "for c in ascii_uppercase[10:20]:\n",
    "    movies_page = main_page + '/movies/alphabetical.htm?letter=' + c + '&p=.htm'\n",
    "    print movies_page\n",
    "    movies_links = get_links_to_movies(main_page, movies_page)\n",
    "    for link in movies_links:\n",
    "        my_list_of_links.append(link)\n",
    "        df = df.append(process_movie(link),ignore_index=True)\n",
    "    print my_list_of_links[-2:]"
   ]
  },
  {
   "cell_type": "code",
   "execution_count": 72,
   "metadata": {
    "collapsed": false
   },
   "outputs": [
    {
     "name": "stdout",
     "output_type": "stream",
     "text": [
      "http://www.boxofficemojo.com/movies/alphabetical.htm?letter=U&p=.htm\n",
      "['http://www.boxofficemojo.com/movies/?id=unveiled.htm', 'http://www.boxofficemojo.com/movies/?id=unzipped.htm']\n",
      "http://www.boxofficemojo.com/movies/alphabetical.htm?letter=V&p=.htm\n",
      "['http://www.boxofficemojo.com/movies/?id=vettai.htm', 'http://www.boxofficemojo.com/movies/?id=vexille.htm']\n",
      "http://www.boxofficemojo.com/movies/alphabetical.htm?letter=W&p=.htm\n",
      "['http://www.boxofficemojo.com/movies/?id=waywardcloud.htm', 'http://www.boxofficemojo.com/movies/?id=wazir.htm']\n",
      "http://www.boxofficemojo.com/movies/alphabetical.htm?letter=X&p=.htm\n",
      "['http://www.boxofficemojo.com/movies/?id=xxx3.htm', 'http://www.boxofficemojo.com/movies/?id=xxy.htm']\n",
      "http://www.boxofficemojo.com/movies/alphabetical.htm?letter=Y&p=.htm\n",
      "['http://www.boxofficemojo.com/movies/?id=youthinrevolt.htm', 'http://www.boxofficemojo.com/movies/?id=youthwithoutyouth.htm']\n",
      "http://www.boxofficemojo.com/movies/alphabetical.htm?letter=Z&p=.htm\n",
      "['http://www.boxofficemojo.com/movies/?id=disney2016.htm', 'http://www.boxofficemojo.com/movies/?id=zorrothegayblade.htm']\n"
     ]
    }
   ],
   "source": [
    "# Processing pages 20 -- 26\n",
    "for c in ascii_uppercase[20:]:\n",
    "    movies_page = main_page + '/movies/alphabetical.htm?letter=' + c + '&p=.htm'\n",
    "    print movies_page\n",
    "    movies_links = get_links_to_movies(main_page, movies_page)\n",
    "    for link in movies_links:\n",
    "        my_list_of_links.append(link)\n",
    "        df = df.append(process_movie(link),ignore_index=True)\n",
    "    print my_list_of_links[-2:]"
   ]
  },
  {
   "cell_type": "code",
   "execution_count": 73,
   "metadata": {
    "collapsed": false
   },
   "outputs": [],
   "source": [
    "df.to_csv(\"/home/lucia/lucia/metis/02-luther/data/set30.csv\")"
   ]
  },
  {
   "cell_type": "code",
   "execution_count": 74,
   "metadata": {
    "collapsed": false
   },
   "outputs": [
    {
     "name": "stdout",
     "output_type": "stream",
     "text": [
      "3568\n"
     ]
    }
   ],
   "source": [
    "print len(df)"
   ]
  },
  {
   "cell_type": "code",
   "execution_count": 75,
   "metadata": {
    "collapsed": false
   },
   "outputs": [
    {
     "data": {
      "text/html": [
       "<div>\n",
       "<table border=\"1\" class=\"dataframe\">\n",
       "  <thead>\n",
       "    <tr style=\"text-align: right;\">\n",
       "      <th></th>\n",
       "      <th>movie_title</th>\n",
       "      <th>domestic_total_gross</th>\n",
       "      <th>release_date</th>\n",
       "      <th>runtime_(mins)</th>\n",
       "      <th>rating</th>\n",
       "      <th>genre</th>\n",
       "      <th>distributor</th>\n",
       "      <th>director</th>\n",
       "      <th>production_budget</th>\n",
       "      <th>widest_release_theaters</th>\n",
       "    </tr>\n",
       "  </thead>\n",
       "  <tbody>\n",
       "    <tr>\n",
       "      <th>0</th>\n",
       "      <td>The A-Team</td>\n",
       "      <td>77222099</td>\n",
       "      <td>2010-06-11 00:00:00</td>\n",
       "      <td>117</td>\n",
       "      <td>PG-13</td>\n",
       "      <td>Action</td>\n",
       "      <td>Fox</td>\n",
       "      <td>Joe Carnahan</td>\n",
       "      <td>$110 million</td>\n",
       "      <td>3,544</td>\n",
       "    </tr>\n",
       "    <tr>\n",
       "      <th>1</th>\n",
       "      <td>A.C.O.D.</td>\n",
       "      <td>175705</td>\n",
       "      <td>2013-10-04 00:00:00</td>\n",
       "      <td>88</td>\n",
       "      <td>PG-13</td>\n",
       "      <td>Comedy</td>\n",
       "      <td>The Film Arcade</td>\n",
       "      <td>None</td>\n",
       "      <td>N/A</td>\n",
       "      <td>42</td>\n",
       "    </tr>\n",
       "    <tr>\n",
       "      <th>2</th>\n",
       "      <td>A.I. Artificial Intelligence</td>\n",
       "      <td>78616689</td>\n",
       "      <td>2001-06-29 00:00:00</td>\n",
       "      <td>145</td>\n",
       "      <td>PG-13</td>\n",
       "      <td>Sci-Fi</td>\n",
       "      <td>Warner Bros.</td>\n",
       "      <td>Steven Spielberg</td>\n",
       "      <td>$100 million</td>\n",
       "      <td>3,242</td>\n",
       "    </tr>\n",
       "    <tr>\n",
       "      <th>3</th>\n",
       "      <td>Aaja Nachle</td>\n",
       "      <td>484108</td>\n",
       "      <td>2007-11-30 00:00:00</td>\n",
       "      <td>145</td>\n",
       "      <td>Unrated</td>\n",
       "      <td>Foreign</td>\n",
       "      <td>Yash Raj</td>\n",
       "      <td>None</td>\n",
       "      <td>N/A</td>\n",
       "      <td>66</td>\n",
       "    </tr>\n",
       "    <tr>\n",
       "      <th>4</th>\n",
       "      <td>Aarakshan (Reservation)</td>\n",
       "      <td>651096</td>\n",
       "      <td>2011-08-12 00:00:00</td>\n",
       "      <td>None</td>\n",
       "      <td>Unrated</td>\n",
       "      <td>Foreign</td>\n",
       "      <td>Reliance Big Pictures</td>\n",
       "      <td>None</td>\n",
       "      <td>N/A</td>\n",
       "      <td>91</td>\n",
       "    </tr>\n",
       "  </tbody>\n",
       "</table>\n",
       "</div>"
      ],
      "text/plain": [
       "                    movie_title domestic_total_gross         release_date  \\\n",
       "0                    The A-Team             77222099  2010-06-11 00:00:00   \n",
       "1                      A.C.O.D.               175705  2013-10-04 00:00:00   \n",
       "2  A.I. Artificial Intelligence             78616689  2001-06-29 00:00:00   \n",
       "3                   Aaja Nachle               484108  2007-11-30 00:00:00   \n",
       "4       Aarakshan (Reservation)               651096  2011-08-12 00:00:00   \n",
       "\n",
       "  runtime_(mins)   rating    genre            distributor          director  \\\n",
       "0            117    PG-13   Action                    Fox      Joe Carnahan   \n",
       "1             88    PG-13   Comedy        The Film Arcade              None   \n",
       "2            145    PG-13   Sci-Fi           Warner Bros.  Steven Spielberg   \n",
       "3            145  Unrated  Foreign               Yash Raj              None   \n",
       "4           None  Unrated  Foreign  Reliance Big Pictures              None   \n",
       "\n",
       "  production_budget widest_release_theaters  \n",
       "0      $110 million                   3,544  \n",
       "1               N/A                      42  \n",
       "2      $100 million                   3,242  \n",
       "3               N/A                      66  \n",
       "4               N/A                      91  "
      ]
     },
     "execution_count": 75,
     "metadata": {},
     "output_type": "execute_result"
    }
   ],
   "source": [
    "df.head()"
   ]
  },
  {
   "cell_type": "code",
   "execution_count": 76,
   "metadata": {
    "collapsed": false
   },
   "outputs": [
    {
     "data": {
      "text/html": [
       "<div>\n",
       "<table border=\"1\" class=\"dataframe\">\n",
       "  <thead>\n",
       "    <tr style=\"text-align: right;\">\n",
       "      <th></th>\n",
       "      <th>movie_title</th>\n",
       "      <th>domestic_total_gross</th>\n",
       "      <th>release_date</th>\n",
       "      <th>runtime_(mins)</th>\n",
       "      <th>rating</th>\n",
       "      <th>genre</th>\n",
       "      <th>distributor</th>\n",
       "      <th>director</th>\n",
       "      <th>production_budget</th>\n",
       "      <th>widest_release_theaters</th>\n",
       "    </tr>\n",
       "  </thead>\n",
       "  <tbody>\n",
       "    <tr>\n",
       "      <th>3563</th>\n",
       "      <td>Zoolander 2</td>\n",
       "      <td>None</td>\n",
       "      <td>2016-02-12 00:00:00</td>\n",
       "      <td>100</td>\n",
       "      <td>PG-13</td>\n",
       "      <td>Comedy</td>\n",
       "      <td>Paramount</td>\n",
       "      <td>Ben Stiller</td>\n",
       "      <td>N/A</td>\n",
       "      <td>3,418</td>\n",
       "    </tr>\n",
       "    <tr>\n",
       "      <th>3564</th>\n",
       "      <td>Zoom</td>\n",
       "      <td>11989328</td>\n",
       "      <td>2006-08-11 00:00:00</td>\n",
       "      <td>83</td>\n",
       "      <td>PG</td>\n",
       "      <td>Family Adventure</td>\n",
       "      <td>Sony (Revolution)</td>\n",
       "      <td>Peter Hewitt</td>\n",
       "      <td>N/A</td>\n",
       "      <td>2,501</td>\n",
       "    </tr>\n",
       "    <tr>\n",
       "      <th>3565</th>\n",
       "      <td>Zoot Suit</td>\n",
       "      <td>3256082</td>\n",
       "      <td>1981-10-02 00:00:00</td>\n",
       "      <td>103</td>\n",
       "      <td>R</td>\n",
       "      <td>Unknown</td>\n",
       "      <td>Universal</td>\n",
       "      <td>None</td>\n",
       "      <td>N/A</td>\n",
       "      <td>None</td>\n",
       "    </tr>\n",
       "    <tr>\n",
       "      <th>3566</th>\n",
       "      <td>Zootopia</td>\n",
       "      <td>None</td>\n",
       "      <td>2016-03-04 00:00:00</td>\n",
       "      <td>108</td>\n",
       "      <td>PG</td>\n",
       "      <td>Animation</td>\n",
       "      <td>Buena Vista</td>\n",
       "      <td>None</td>\n",
       "      <td>N/A</td>\n",
       "      <td>3,959</td>\n",
       "    </tr>\n",
       "    <tr>\n",
       "      <th>3567</th>\n",
       "      <td>Zorro, the Gay Blade</td>\n",
       "      <td>None</td>\n",
       "      <td>1981-07-17 00:00:00</td>\n",
       "      <td>93</td>\n",
       "      <td>PG</td>\n",
       "      <td>Action Comedy</td>\n",
       "      <td>Fox</td>\n",
       "      <td>Peter Medak</td>\n",
       "      <td>N/A</td>\n",
       "      <td>None</td>\n",
       "    </tr>\n",
       "  </tbody>\n",
       "</table>\n",
       "</div>"
      ],
      "text/plain": [
       "               movie_title domestic_total_gross         release_date  \\\n",
       "3563           Zoolander 2                 None  2016-02-12 00:00:00   \n",
       "3564                  Zoom             11989328  2006-08-11 00:00:00   \n",
       "3565             Zoot Suit              3256082  1981-10-02 00:00:00   \n",
       "3566              Zootopia                 None  2016-03-04 00:00:00   \n",
       "3567  Zorro, the Gay Blade                 None  1981-07-17 00:00:00   \n",
       "\n",
       "     runtime_(mins) rating             genre        distributor      director  \\\n",
       "3563            100  PG-13            Comedy          Paramount   Ben Stiller   \n",
       "3564             83     PG  Family Adventure  Sony (Revolution)  Peter Hewitt   \n",
       "3565            103      R           Unknown          Universal          None   \n",
       "3566            108     PG         Animation        Buena Vista          None   \n",
       "3567             93     PG     Action Comedy                Fox   Peter Medak   \n",
       "\n",
       "     production_budget widest_release_theaters  \n",
       "3563               N/A                   3,418  \n",
       "3564               N/A                   2,501  \n",
       "3565               N/A                    None  \n",
       "3566               N/A                   3,959  \n",
       "3567               N/A                    None  "
      ]
     },
     "execution_count": 76,
     "metadata": {},
     "output_type": "execute_result"
    }
   ],
   "source": [
    "df.tail()"
   ]
  },
  {
   "cell_type": "code",
   "execution_count": null,
   "metadata": {
    "collapsed": true
   },
   "outputs": [],
   "source": []
  }
 ],
 "metadata": {
  "kernelspec": {
   "display_name": "Python 2",
   "language": "python",
   "name": "python2"
  },
  "language_info": {
   "codemirror_mode": {
    "name": "ipython",
    "version": 2
   },
   "file_extension": ".py",
   "mimetype": "text/x-python",
   "name": "python",
   "nbconvert_exporter": "python",
   "pygments_lexer": "ipython2",
   "version": "2.7.11"
  }
 },
 "nbformat": 4,
 "nbformat_minor": 0
}
