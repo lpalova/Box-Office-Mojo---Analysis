{
 "cells": [
  {
   "cell_type": "markdown",
   "metadata": {},
   "source": [
    "# Box Office Mojo - Web scraping"
   ]
  },
  {
   "cell_type": "code",
   "execution_count": 122,
   "metadata": {
    "collapsed": false
   },
   "outputs": [],
   "source": [
    "# if needed: pip install requests\n",
    "import requests\n",
    "import urllib2\n",
    "#from BeautifulSoup import BeautifulSoup\n",
    "from bs4 import BeautifulSoup\n",
    "import re\n",
    "import dateutil.parser\n",
    "from string import ascii_uppercase\n",
    "from pprint import pprint\n",
    "import pandas as pd\n",
    "import pickle\n",
    "import time"
   ]
  },
  {
   "cell_type": "code",
   "execution_count": 123,
   "metadata": {
    "collapsed": true
   },
   "outputs": [],
   "source": [
    "def get_movie_value(soup, field_name):\n",
    "    '''Grab a value from boxofficemojo HTML\n",
    "    \n",
    "    Takes a string attribute of a movie on the page and\n",
    "    returns the string in the next sibling object\n",
    "    (the value for that attribute)\n",
    "    or None if nothing is found.\n",
    "    '''\n",
    "    obj = soup.find(text=re.compile(field_name))\n",
    "    if not obj: \n",
    "        return None\n",
    "    # this works for most of the values\n",
    "    next_sibling = obj.findNextSibling()\n",
    "    if next_sibling:\n",
    "        return next_sibling.text.encode('ascii','ignore') \n",
    "    else:\n",
    "        return None"
   ]
  },
  {
   "cell_type": "code",
   "execution_count": 124,
   "metadata": {
    "collapsed": true
   },
   "outputs": [],
   "source": [
    "def get_movie_title(soup):\n",
    "    obj = soup.find('title')\n",
    "    if not obj: \n",
    "        return None\n",
    "    # this works for most of the values\n",
    "    try:\n",
    "        name = \"(\".join(obj.text.split('(')[:-1]).strip()\n",
    "        if name == \"\":\n",
    "            name = \"\".join(obj.text.split('-')[:-1]).strip()\n",
    "        return name.encode('ascii','ignore')\n",
    "    except:\n",
    "        return None"
   ]
  },
  {
   "cell_type": "code",
   "execution_count": 125,
   "metadata": {
    "collapsed": false
   },
   "outputs": [],
   "source": [
    "def get_theaters(soup):\n",
    "    nonBreakSpace = u'\\xa0'\n",
    "    obj = soup.find(text=re.compile('Widest'+nonBreakSpace+'Release:'))\n",
    "    if not obj:\n",
    "        return None\n",
    "    next_obj = obj.findNext('td')\n",
    "    if next_obj.contents[0]:\n",
    "        return next_obj.contents[0].strip().split()[0].encode('ascii','ignore')\n",
    "    else:\n",
    "        return None"
   ]
  },
  {
   "cell_type": "code",
   "execution_count": 126,
   "metadata": {
    "collapsed": false
   },
   "outputs": [],
   "source": [
    "def get_the_first_player(soup, field_name_list):\n",
    "    #    actors_list = []\n",
    "#    for link in soup.find_all('a'):\n",
    "#        if link.contents[0] in set(field_name_list):\n",
    "#            my_td = link.findNext('td')\n",
    "#            my_list = my_td.find_all('a')\n",
    "#            for item in my_list:\n",
    "#                actors_list.append(item.text.encode('ascii','ignore'))\n",
    "#            return actors_list\n",
    "    return None"
   ]
  },
  {
   "cell_type": "code",
   "execution_count": 127,
   "metadata": {
    "collapsed": false
   },
   "outputs": [],
   "source": [
    "def get_all_players(soup, field_name_list):\n",
    "    for item in set(field_name_list):\n",
    "        my_text = soup.find(text=item)\n",
    "        if my_text:\n",
    "            my_td = my_text.findNext('td').getText(separator=u',').encode('ascii','ignore')\n",
    "            return my_td\n",
    "    return None"
   ]
  },
  {
   "cell_type": "code",
   "execution_count": 128,
   "metadata": {
    "collapsed": true
   },
   "outputs": [],
   "source": [
    "def to_date(datestring):\n",
    "    try:\n",
    "        date = dateutil.parser.parse(datestring)\n",
    "        return date\n",
    "    except:\n",
    "        return datestring\n",
    "\n",
    "def money_to_int(moneystring):\n",
    "    try:\n",
    "        moneystring = moneystring.replace('$', '').replace(',', '')\n",
    "        return int(moneystring)\n",
    "    except:\n",
    "        return moneystring\n",
    "\n",
    "def runtime_to_minutes(runtimestring):\n",
    "    try:\n",
    "        runtime = runtimestring.split()\n",
    "        try:\n",
    "            minutes = int(runtime[0])*60 + int(runtime[2])\n",
    "            return minutes\n",
    "        except:\n",
    "            return None\n",
    "    except:\n",
    "        return runtimestring"
   ]
  },
  {
   "cell_type": "code",
   "execution_count": 129,
   "metadata": {
    "collapsed": false
   },
   "outputs": [],
   "source": [
    "def process_movie(url):\n",
    "    headers = ['movie_title', 'domestic_total_gross', 'release_date', 'runtime_(mins)', 'rating',\n",
    "               'genre', 'distributor', 'director', 'producer', 'production_budget', 'widest_release_theaters',\n",
    "              'actors', 'writers', 'cinematographers', 'composers']\n",
    "    response = requests.get(url)\n",
    "    if response.status_code != 200:\n",
    "        return None\n",
    "    page = response.text\n",
    "    soup = BeautifulSoup(page,\"lxml\")\n",
    "    movie_title = get_movie_title(soup)\n",
    "    raw_release_date = get_movie_value(soup,'Release Date')\n",
    "    release_date = to_date(raw_release_date)\n",
    "    raw_domestic_total_gross = get_movie_value(soup,'Domestic Total')\n",
    "    domestic_total_gross = money_to_int(raw_domestic_total_gross)\n",
    "    raw_runtime = get_movie_value(soup,'Runtime')\n",
    "    runtime = runtime_to_minutes(raw_runtime)\n",
    "    rating = get_movie_value(soup,'MPAA Rating')\n",
    "    genre = get_movie_value(soup,'Genre: ')\n",
    "    distributor = get_movie_value(soup,'Distributor: ')\n",
    "    production_budget = get_movie_value(soup, 'Production Budget: ')\n",
    "    theaters = get_movie_value(soup, 'Wildest Release: ')\n",
    "    director = get_all_players(soup,['Director:','Director'])\n",
    "    producer = get_all_players(soup,['Producer:','Producers:','Producer','Producers'])\n",
    "    actors = get_all_players(soup,['Actor:','Actors:','Actor','Actors'])\n",
    "    writers = get_all_players(soup,['Writer:','Writers:','Screenwriter:','Screenwriters:',\n",
    "                                   'Writer','Writers','Screenwriter','Screenwriters'])\n",
    "    cinematographers = get_all_players(soup, ['Cinematographer:','Cinematographer',\n",
    "                                              'Cinematographers:''Cinematographers'])\n",
    "    composers = get_all_players(soup, ['Composer:','Composers:','Composer','Composers'])\n",
    "    widest_release_theaters = get_theaters(soup)\n",
    "    df_movie = pd.DataFrame([[movie_title, domestic_total_gross, release_date, runtime, rating, \n",
    "                              genre, distributor, director, producer, production_budget, widest_release_theaters,\n",
    "                             actors, writers, cinematographers, composers]], \n",
    "                            columns=headers)\n",
    "    return df_movie\n"
   ]
  },
  {
   "cell_type": "code",
   "execution_count": 130,
   "metadata": {
    "collapsed": true
   },
   "outputs": [],
   "source": [
    "def get_links_to_movies(main_page, movies_page):\n",
    "    response = requests.get(movies_page)\n",
    "    page = response.text\n",
    "    soup = BeautifulSoup(page,\"lxml\")\n",
    "    obj = soup.find(id=\"body\")\n",
    "    list_links = []\n",
    "    for link in obj.findAll('a'):\n",
    "        if link['href'].startswith(\"/movies/?id\"):\n",
    "            list_links.append(main_page + link['href'])\n",
    "    return list_links"
   ]
  },
  {
   "cell_type": "code",
   "execution_count": 131,
   "metadata": {
    "collapsed": false,
    "scrolled": false
   },
   "outputs": [
    {
     "name": "stdout",
     "output_type": "stream",
     "text": [
      "None\n"
     ]
    }
   ],
   "source": [
    "df_sample = process_movie('http://www.boxofficemojo.com/movies/?id=behavingbadly.htm')\n",
    "#df_sample = df_sample.append(process_movie('http://boxofficemojo.com/movies/?id=biglebowski.htm'),ignore_index=True)\n",
    "#df_sample = df_sample.append(process_movie('http://www.boxofficemojo.com/movies/?id=jazbaa.htm'),ignore_index=True)\n",
    "print df_sample\n",
    "#df_sample.to_csv(\"./data/test_sample_by_movies.csv\", index = False)"
   ]
  },
  {
   "cell_type": "code",
   "execution_count": 132,
   "metadata": {
    "collapsed": false
   },
   "outputs": [
    {
     "name": "stdout",
     "output_type": "stream",
     "text": [
      "http://www.boxofficemojo.com/movies/alphabetical.htm?letter=NUM&p=.htm\n"
     ]
    }
   ],
   "source": [
    "main_page = 'http://www.boxofficemojo.com'\n",
    "\n",
    "# Processing 'NUM' movies page\n",
    "movies_page = main_page + '/movies/alphabetical.htm?letter=NUM&p=.htm'\n",
    "print movies_page\n",
    "movies_links = get_links_to_movies(main_page, movies_page)\n",
    "df = process_movie(movies_links.pop(0))\n",
    "for link in movies_links:\n",
    "    df_movie = process_movie(link)\n",
    "    if df_movie is not None:\n",
    "        df = df.append(df_movie, ignore_index=True)\n",
    "df.to_pickle('my_df.pickle')\n"
   ]
  },
  {
   "cell_type": "code",
   "execution_count": 243,
   "metadata": {
    "collapsed": false,
    "scrolled": true
   },
   "outputs": [
    {
     "name": "stdout",
     "output_type": "stream",
     "text": [
      "http://www.boxofficemojo.com/movies/alphabetical.htm?letter=Z&page=1&p=.htm\n",
      "http://www.boxofficemojo.com/movies/alphabetical.htm?letter=Z&page=2&p=.htm\n",
      "http://www.boxofficemojo.com/movies/alphabetical.htm?letter=Z&page=3&p=.htm\n",
      "http://www.boxofficemojo.com/movies/alphabetical.htm?letter=Z&page=4&p=.htm\n",
      "http://www.boxofficemojo.com/movies/alphabetical.htm?letter=Z&page=5&p=.htm\n",
      "http://www.boxofficemojo.com/movies/alphabetical.htm?letter=Z&page=6&p=.htm\n",
      "http://www.boxofficemojo.com/movies/alphabetical.htm?letter=Z&page=7&p=.htm\n",
      "http://www.boxofficemojo.com/movies/alphabetical.htm?letter=Z&page=8&p=.htm\n",
      "http://www.boxofficemojo.com/movies/alphabetical.htm?letter=Z&page=9&p=.htm\n",
      "http://www.boxofficemojo.com/movies/alphabetical.htm?letter=Z&page=10&p=.htm\n",
      "http://www.boxofficemojo.com/movies/alphabetical.htm?letter=Z&page=11&p=.htm\n",
      "http://www.boxofficemojo.com/movies/alphabetical.htm?letter=Z&page=12&p=.htm\n",
      "http://www.boxofficemojo.com/movies/alphabetical.htm?letter=Z&page=13&p=.htm\n",
      "http://www.boxofficemojo.com/movies/alphabetical.htm?letter=Z&page=14&p=.htm\n"
     ]
    }
   ],
   "source": [
    "# Processing pages\n",
    "for c in ascii_uppercase[25:26]:\n",
    "    for num in range(1,15):\n",
    "        movies_page = main_page + '/movies/alphabetical.htm?letter=' + c + '&page=' + str(num) + '&p=.htm'\n",
    "        print movies_page\n",
    "        movies_links = get_links_to_movies(main_page, movies_page)\n",
    "        for link in movies_links:\n",
    "            df = pd.read_pickle('my_df.pickle')\n",
    "            df_movie = process_movie(link)\n",
    "            if df_movie is not None:\n",
    "                df = df.append(df_movie, ignore_index=True)\n",
    "            df.to_pickle('my_df.pickle')\n",
    "    #time.sleep(20)\n",
    "    "
   ]
  },
  {
   "cell_type": "code",
   "execution_count": 244,
   "metadata": {
    "collapsed": false
   },
   "outputs": [],
   "source": [
    "df.to_csv(\"/home/lucia/lucia/metis/02-luther/data/movies_mojo_uptoZ.csv\", index = False)"
   ]
  },
  {
   "cell_type": "code",
   "execution_count": 245,
   "metadata": {
    "collapsed": false
   },
   "outputs": [
    {
     "name": "stdout",
     "output_type": "stream",
     "text": [
      "Z\n",
      "16811\n",
      "            movie_title domestic_total_gross         release_date  \\\n",
      "0               #Horror                 None  2015-11-20 00:00:00   \n",
      "1                 $9.99                52384  2008-12-12 00:00:00   \n",
      "2       $upercapitalist                15919  2012-08-10 00:00:00   \n",
      "3  (500) Days of Summer             32391374  2009-07-17 00:00:00   \n",
      "4            (Untitled)               230600  2009-10-23 00:00:00   \n",
      "\n",
      "  runtime_(mins)   rating      genre       distributor   director  \\\n",
      "0             90  Unknown     Horror               IFC       None   \n",
      "1             78        R  Animation  Regent Releasing       None   \n",
      "2             96  Unrated   Thriller       Truly Indie       None   \n",
      "3             95    PG-13    Romance   Fox Searchlight  Marc Webb   \n",
      "4             96        R     Comedy    Samuel Goldwyn       None   \n",
      "\n",
      "                                    producer production_budget  \\\n",
      "0                                       None               N/A   \n",
      "1                                       None               N/A   \n",
      "2                                       None               N/A   \n",
      "3  Mason Novick,Mark S. Waters, ,(executive)      $7.5 million   \n",
      "4                                       None               N/A   \n",
      "\n",
      "  widest_release_theaters                                             actors  \\\n",
      "0                    None  Balthazar Getty,Timothy Hutton,Natasha Lyonne,...   \n",
      "1                       4                                               None   \n",
      "2                       1                                               None   \n",
      "3                   1,048  Zooey Deschanel,Joseph Gordon-Levitt,Geoffrey ...   \n",
      "4                      25                       Adam Goldberg,Marley Shelton   \n",
      "\n",
      "                             writers cinematographers  \\\n",
      "0                               None             None   \n",
      "1                               None             None   \n",
      "2                               None             None   \n",
      "3  Scott Neustadter,Michael H. Weber             None   \n",
      "4                               None             None   \n",
      "\n",
      "                    composers  \n",
      "0                        None  \n",
      "1                        None  \n",
      "2                        None  \n",
      "3  Mychael Danna,Rob Simonsen  \n",
      "4                        None  \n",
      "       movie_title domestic_total_gross         release_date runtime_(mins)  \\\n",
      "16806  Zu Warriors                 None                  N/A             80   \n",
      "16807         Zulu                 None  1964-06-17 00:00:00            138   \n",
      "16808    Zulu Dawn                 None  1979-12-14 00:00:00             98   \n",
      "16809     Zus & Zo                49468  2003-02-07 00:00:00            106   \n",
      "16810  Zyzzyx Road                   30  2006-02-25 00:00:00             90   \n",
      "\n",
      "        rating     genre       distributor     director  \\\n",
      "16806    PG-13   Foreign           Miramax         None   \n",
      "16807  Unrated       War           Embassy  Cy Endfield   \n",
      "16808       PG       War   American Cinema         None   \n",
      "16809  Unrated   Foreign          Lifesize         None   \n",
      "16810  Unrated  Thriller  Regent Releasing  John Penney   \n",
      "\n",
      "                        producer production_budget widest_release_theaters  \\\n",
      "16806                       None               N/A                    None   \n",
      "16807  Stanley Baker,Cy Endfield               N/A                    None   \n",
      "16808                       None               N/A                    None   \n",
      "16809                       None               N/A                       4   \n",
      "16810                       None        $2 million                       1   \n",
      "\n",
      "                                                  actors  \\\n",
      "16806                                               None   \n",
      "16807  Stanley Baker,Jack Hawkins,Ulla Jacobsson,Jame...   \n",
      "16808                                               None   \n",
      "16809                                               None   \n",
      "16810                       Katherine Heigl,Tom Sizemore   \n",
      "\n",
      "                        writers                         cinematographers  \\\n",
      "16806                      None                                     None   \n",
      "16807  Cy Endfield,John Prebble  Stephen Dade ,(director of photography)   \n",
      "16808                      None                                     None   \n",
      "16809                      None                                     None   \n",
      "16810                      None                                     None   \n",
      "\n",
      "             composers  \n",
      "16806             None  \n",
      "16807       John Barry  \n",
      "16808  Elmer Bernstein  \n",
      "16809             None  \n",
      "16810             None  \n"
     ]
    }
   ],
   "source": [
    "print ascii_uppercase[25:26]\n",
    "print len(df)\n",
    "print df.head()\n",
    "print df.tail()"
   ]
  },
  {
   "cell_type": "code",
   "execution_count": null,
   "metadata": {
    "collapsed": true
   },
   "outputs": [],
   "source": []
  }
 ],
 "metadata": {
  "kernelspec": {
   "display_name": "Python 2",
   "language": "python",
   "name": "python2"
  },
  "language_info": {
   "codemirror_mode": {
    "name": "ipython",
    "version": 2
   },
   "file_extension": ".py",
   "mimetype": "text/x-python",
   "name": "python",
   "nbconvert_exporter": "python",
   "pygments_lexer": "ipython2",
   "version": "2.7.11"
  }
 },
 "nbformat": 4,
 "nbformat_minor": 0
}
